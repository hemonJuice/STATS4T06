{
 "cells": [
  {
   "cell_type": "code",
   "execution_count": 1,
   "metadata": {},
   "outputs": [],
   "source": [
    "import autoclasswrapper as wrapper\n",
    "import pandas as pd\n"
   ]
  },
  {
   "cell_type": "code",
   "execution_count": 4,
   "metadata": {},
   "outputs": [
    {
     "data": {
      "text/html": [
       "<div>\n",
       "<style scoped>\n",
       "    .dataframe tbody tr th:only-of-type {\n",
       "        vertical-align: middle;\n",
       "    }\n",
       "\n",
       "    .dataframe tbody tr th {\n",
       "        vertical-align: top;\n",
       "    }\n",
       "\n",
       "    .dataframe thead th {\n",
       "        text-align: right;\n",
       "    }\n",
       "</style>\n",
       "<table border=\"1\" class=\"dataframe\">\n",
       "  <thead>\n",
       "    <tr style=\"text-align: right;\">\n",
       "      <th></th>\n",
       "      <th>Column1</th>\n",
       "      <th>Column2</th>\n",
       "      <th>Column3</th>\n",
       "      <th>Column4</th>\n",
       "      <th>Column5</th>\n",
       "      <th>Column6</th>\n",
       "      <th>Column7</th>\n",
       "      <th>Column8</th>\n",
       "    </tr>\n",
       "  </thead>\n",
       "  <tbody>\n",
       "    <tr>\n",
       "      <th>0</th>\n",
       "      <td>35.5</td>\n",
       "      <td>no</td>\n",
       "      <td>yes</td>\n",
       "      <td>no</td>\n",
       "      <td>no</td>\n",
       "      <td>no</td>\n",
       "      <td>no</td>\n",
       "      <td>no</td>\n",
       "    </tr>\n",
       "    <tr>\n",
       "      <th>1</th>\n",
       "      <td>35.9</td>\n",
       "      <td>no</td>\n",
       "      <td>no</td>\n",
       "      <td>yes</td>\n",
       "      <td>yes</td>\n",
       "      <td>yes</td>\n",
       "      <td>yes</td>\n",
       "      <td>no</td>\n",
       "    </tr>\n",
       "    <tr>\n",
       "      <th>2</th>\n",
       "      <td>35.9</td>\n",
       "      <td>no</td>\n",
       "      <td>yes</td>\n",
       "      <td>no</td>\n",
       "      <td>no</td>\n",
       "      <td>no</td>\n",
       "      <td>no</td>\n",
       "      <td>no</td>\n",
       "    </tr>\n",
       "    <tr>\n",
       "      <th>3</th>\n",
       "      <td>36.0</td>\n",
       "      <td>no</td>\n",
       "      <td>no</td>\n",
       "      <td>yes</td>\n",
       "      <td>yes</td>\n",
       "      <td>yes</td>\n",
       "      <td>yes</td>\n",
       "      <td>no</td>\n",
       "    </tr>\n",
       "    <tr>\n",
       "      <th>4</th>\n",
       "      <td>36.0</td>\n",
       "      <td>no</td>\n",
       "      <td>yes</td>\n",
       "      <td>no</td>\n",
       "      <td>no</td>\n",
       "      <td>no</td>\n",
       "      <td>no</td>\n",
       "      <td>no</td>\n",
       "    </tr>\n",
       "  </tbody>\n",
       "</table>\n",
       "</div>"
      ],
      "text/plain": [
       "   Column1 Column2 Column3 Column4 Column5 Column6 Column7 Column8\n",
       "0     35.5      no     yes      no      no      no      no      no\n",
       "1     35.9      no      no     yes     yes     yes     yes      no\n",
       "2     35.9      no     yes      no      no      no      no      no\n",
       "3     36.0      no      no     yes     yes     yes     yes      no\n",
       "4     36.0      no     yes      no      no      no      no      no"
      ]
     },
     "execution_count": 4,
     "metadata": {},
     "output_type": "execute_result"
    }
   ],
   "source": [
    "\n",
    "df = pd.read_csv(\"D:\\STATS4T06\\Datasets\\diagnosis.csv\")\n",
    "\n",
    "\n",
    "#df.insert(0,'index',range(len(df)),allow_duplicates=False)\n",
    "\n",
    "df.head()"
   ]
  },
  {
   "cell_type": "code",
   "execution_count": 5,
   "metadata": {},
   "outputs": [
    {
     "data": {
      "text/plain": [
       "Column1    float64\n",
       "Column2     object\n",
       "Column3     object\n",
       "Column4     object\n",
       "Column5     object\n",
       "Column6     object\n",
       "Column7     object\n",
       "Column8     object\n",
       "dtype: object"
      ]
     },
     "execution_count": 5,
     "metadata": {},
     "output_type": "execute_result"
    }
   ],
   "source": [
    "df.dtypes"
   ]
  },
  {
   "cell_type": "code",
   "execution_count": 10,
   "metadata": {},
   "outputs": [
    {
     "name": "stdout",
     "output_type": "stream",
     "text": [
      "\tTemperature\n",
      "0\t35.5\n",
      "1\t35.9\n",
      "2\t35.9\n",
      "3\t36.0\n",
      "4\t36.0\n",
      "5\t36.0\n",
      "6\t36.2\n",
      "7\t36.2\n",
      "8\t36.3\n"
     ]
    }
   ],
   "source": [
    "\n",
    "df[\"Temperature\"].to_csv(\"diag_real.tsv\", sep=\"\\t\", header=True)\n",
    "!head diag_real.tsv\n",
    "\n"
   ]
  },
  {
   "cell_type": "code",
   "execution_count": 11,
   "metadata": {},
   "outputs": [
    {
     "name": "stdout",
     "output_type": "stream",
     "text": [
      "\tnausea\tLumbarPain\tUrinePushing\tMicturitionPains\tBurningUrethra\n",
      "0\tno\tyes\tno\tno\tno\n",
      "1\tno\tno\tyes\tyes\tyes\n",
      "2\tno\tyes\tno\tno\tno\n",
      "3\tno\tno\tyes\tyes\tyes\n",
      "4\tno\tyes\tno\tno\tno\n",
      "5\tno\tyes\tno\tno\tno\n",
      "6\tno\tno\tyes\tyes\tyes\n",
      "7\tno\tyes\tno\tno\tno\n",
      "8\tno\tno\tyes\tyes\tyes\n"
     ]
    }
   ],
   "source": [
    "df.drop([\"Temperature\", \"decision1\", \"decision2\"], axis=1).to_csv(\"diag_discret.tsv\", sep=\"\\t\", header=True)\n",
    "!head diag_discret.tsv"
   ]
  },
  {
   "cell_type": "code",
   "execution_count": 6,
   "metadata": {},
   "outputs": [
    {
     "name": "stderr",
     "output_type": "stream",
     "text": [
      "2023-02-03 17:03:58 INFO     Reading data file 'D:\\STATS4T06\\diag_real.tsv' as 'real scalar' with error 0.01\n",
      "2023-02-03 17:03:58 INFO     Detected encoding: ascii\n",
      "2023-02-03 17:03:58 INFO     Found 120 rows and 2 columns\n",
      "2023-02-03 17:03:58 DEBUG    Checking column names\n",
      "2023-02-03 17:03:58 DEBUG    Index name 'ID'\n",
      "2023-02-03 17:03:58 DEBUG    Column name 'Column1'\n",
      "2023-02-03 17:03:58 INFO     Checking data format\n",
      "2023-02-03 17:03:58 INFO     Column 'Column1'\n",
      "2023-02-03 17:03:58 INFO     count    120.000000\n",
      "2023-02-03 17:03:58 INFO     mean      38.724167\n",
      "2023-02-03 17:03:58 INFO     std        1.819132\n",
      "2023-02-03 17:03:58 INFO     min       35.500000\n",
      "2023-02-03 17:03:58 INFO     50%       37.950000\n",
      "2023-02-03 17:03:58 INFO     max       41.500000\n",
      "2023-02-03 17:03:58 INFO     ---\n",
      "2023-02-03 17:03:58 INFO     Reading data file 'D:\\STATS4T06\\diag_discret.tsv' as 'discrete'\n",
      "2023-02-03 17:03:58 INFO     Detected encoding: ascii\n",
      "2023-02-03 17:03:58 INFO     Found 120 rows and 6 columns\n",
      "2023-02-03 17:03:58 DEBUG    Checking column names\n",
      "2023-02-03 17:03:58 DEBUG    Index name 'ID'\n",
      "2023-02-03 17:03:58 DEBUG    Column name 'Column2'\n",
      "2023-02-03 17:03:58 DEBUG    Column name 'Column3'\n",
      "2023-02-03 17:03:58 DEBUG    Column name 'Column4'\n",
      "2023-02-03 17:03:58 DEBUG    Column name 'Column5'\n",
      "2023-02-03 17:03:58 DEBUG    Column name 'Column6'\n",
      "2023-02-03 17:03:58 INFO     Checking data format\n",
      "2023-02-03 17:03:58 INFO     Column 'Column2': 2 different values\n",
      "2023-02-03 17:03:58 INFO     Column 'Column3': 2 different values\n",
      "2023-02-03 17:03:58 INFO     Column 'Column4': 2 different values\n",
      "2023-02-03 17:03:58 INFO     Column 'Column5': 2 different values\n",
      "2023-02-03 17:03:58 INFO     Column 'Column6': 2 different values\n",
      "2023-02-03 17:03:58 INFO     Preparing input data\n",
      "2023-02-03 17:03:58 INFO     Final dataframe has 120 lines and 7 columns\n",
      "2023-02-03 17:03:58 INFO     Searching for missing values\n",
      "2023-02-03 17:03:58 INFO     No missing values found\n",
      "2023-02-03 17:03:58 INFO     Writing autoclass.db2 file\n",
      "2023-02-03 17:03:58 INFO     If any, missing values will be encoded as '?'\n",
      "2023-02-03 17:03:58 DEBUG    Writing autoclass.tsv file [for later use]\n",
      "2023-02-03 17:03:58 INFO     Writing .hd2 file\n",
      "2023-02-03 17:03:58 INFO     Writing .model file\n",
      "2023-02-03 17:03:58 INFO     Writing .s-params file\n",
      "2023-02-03 17:03:58 INFO     Writing .r-params file\n"
     ]
    }
   ],
   "source": [
    "# Create object to prepare dataset.\n",
    "clust = wrapper.Input()\n",
    "\n",
    "# Load datasets from tsv files.\n",
    "clust.add_input_data(\"D:\\STATS4T06\\diag_real.tsv\", \"real scalar\")\n",
    "clust.add_input_data(\"D:\\STATS4T06\\diag_discret.tsv\", \"discrete\")\n",
    "\n",
    "# Prepare input data:\n",
    "# - create a final dataframe\n",
    "# - merge datasets if multiple inputs\n",
    "clust.prepare_input_data()\n",
    "\n",
    "# Create files needed by AutoClass.\n",
    "clust.create_db2_file()\n",
    "clust.create_hd2_file()\n",
    "clust.create_model_file()\n",
    "# We wanted reproducible results to ease documentation.\n",
    "# But bear in mind, that this parameter is not advised by authors of AutoClass C in production run.\n",
    "# Use clust.create_sparams_file() instead.\n",
    "clust.create_sparams_file(reproducible_run=True)\n",
    "clust.create_rparams_file()"
   ]
  },
  {
   "cell_type": "code",
   "execution_count": 15,
   "metadata": {},
   "outputs": [
    {
     "name": "stderr",
     "output_type": "stream",
     "text": [
      "2023-02-03 17:06:50 ERROR    AutoClass C executable not found in path!\n",
      "2023-02-03 17:06:50 INFO     Writing run file\n",
      "2023-02-03 17:06:50 ERROR    AutoClass C executable not found in path!\n"
     ]
    }
   ],
   "source": [
    "\n",
    "\n",
    "# Search autoclass in path.\n",
    "wrapper.search_autoclass_in_path()\n",
    "\n",
    "# Create object to run AutoClass.\n",
    "run = wrapper.Run()\n",
    "\n",
    "# Prepare run script.\n",
    "run.create_run_file()\n",
    "\n",
    "# Run AutoClass.\n",
    "run.run()"
   ]
  }
 ],
 "metadata": {
  "kernelspec": {
   "display_name": "Python 3",
   "language": "python",
   "name": "python3"
  },
  "language_info": {
   "codemirror_mode": {
    "name": "ipython",
    "version": 3
   },
   "file_extension": ".py",
   "mimetype": "text/x-python",
   "name": "python",
   "nbconvert_exporter": "python",
   "pygments_lexer": "ipython3",
   "version": "3.11.1"
  },
  "orig_nbformat": 4,
  "vscode": {
   "interpreter": {
    "hash": "7ab9e1c345c6ca72aee2a9dc5c191881083c1e0904cd418eb537d62ed6bc1fcb"
   }
  }
 },
 "nbformat": 4,
 "nbformat_minor": 2
}
